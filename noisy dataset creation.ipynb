{
 "cells": [
  {
   "cell_type": "code",
   "execution_count": 3,
   "id": "6aa1df45",
   "metadata": {},
   "outputs": [],
   "source": [
    "import os\n",
    "import librosa\n",
    "import soundfile as sf  # Ensure you have 'soundfile' installed, you can install it with 'pip install soundfile'\n",
    "import numpy as np\n",
    "\n",
    "def insert_random_noise(original_path, output_directory, snr_db=10):\n",
    "    # Load the original audio file\n",
    "    original_audio, sr = librosa.load(original_path, sr=None)\n",
    "\n",
    "    # Generate random noise with the same length as the original audio\n",
    "    noise = np.random.normal(0, 1, len(original_audio))\n",
    "\n",
    "    # Calculate the scaling factor for the noise based on SNR\n",
    "    rms_original = np.sqrt(np.mean(np.square(original_audio)))\n",
    "    rms_noise = np.sqrt(np.mean(np.square(noise)))\n",
    "    scaling_factor = 10**(-snr_db / 20.0) * rms_original / rms_noise\n",
    "\n",
    "    # Mix the original audio with the scaled noise\n",
    "    mixed_audio = original_audio + scaling_factor * noise\n",
    "\n",
    "    # Save the mixed audio to the output directory using soundfile\n",
    "    output_path = os.path.join(output_directory, f\"mixed_{os.path.basename(original_path)}\")\n",
    "    sf.write(output_path, mixed_audio, sr)\n",
    "\n",
    "# Example usage:\n",
    "original_directory = 'output'\n",
    "output_directory = 'mixed_audio'\n",
    "os.makedirs(output_directory, exist_ok=True)\n",
    "\n",
    "# Process each original audio file in the original directory\n",
    "for original_file in os.listdir(original_directory):\n",
    "    if original_file.endswith('.wav'):\n",
    "        original_path = os.path.join(original_directory, original_file)\n",
    "        insert_random_noise(original_path, output_directory)\n"
   ]
  },
  {
   "cell_type": "code",
   "execution_count": null,
   "id": "5a8223b3",
   "metadata": {},
   "outputs": [],
   "source": []
  }
 ],
 "metadata": {
  "kernelspec": {
   "display_name": "Python 3 (ipykernel)",
   "language": "python",
   "name": "python3"
  },
  "language_info": {
   "codemirror_mode": {
    "name": "ipython",
    "version": 3
   },
   "file_extension": ".py",
   "mimetype": "text/x-python",
   "name": "python",
   "nbconvert_exporter": "python",
   "pygments_lexer": "ipython3",
   "version": "3.11.5"
  }
 },
 "nbformat": 4,
 "nbformat_minor": 5
}
